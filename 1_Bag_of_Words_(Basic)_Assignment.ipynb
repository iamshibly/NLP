{
  "nbformat": 4,
  "nbformat_minor": 0,
  "metadata": {
    "colab": {
      "provenance": []
    },
    "kernelspec": {
      "name": "python3",
      "display_name": "Python 3"
    },
    "language_info": {
      "name": "python"
    }
  },
  "cells": [
    {
      "cell_type": "code",
      "execution_count": 75,
      "metadata": {
        "id": "K6J5m6JUPgco"
      },
      "outputs": [],
      "source": [
        "A = \"The city was buzzing with excitement as the local basketball team prepared for the championship. \\\n",
        "Fans gathered in the arena, waving flags and chanting for their favorite players. The match promised \\\n",
        "to be a thrilling contest of skill and teamwork.\"\n",
        "\n",
        "B = \"Meanwhile, across town, a marathon was taking place. Thousands of runners filled the streets, \\\n",
        "each determined to cross the finish line. Spectators stood along the route, clapping and shouting words\\\n",
        "of encouragement.\"\n",
        "\n",
        "C = \"As the marathon continued, a stray dog ran alongside the runners for several kilometers. People \\\n",
        "smiled and cheered for the dog, who seemed as determined as the athletes. It quickly became the \\\n",
        "highlight of the race, and photos of the running dog went viral online.\"\n",
        "\n",
        "D = \"At the same time, engineers were testing a new fitness tracking app. The app recorded heart rate,\\\n",
        "steps, and speed in real time, giving both runners and fans detailed statistics. Many marathon \\\n",
        "participants used it to monitor their performance.\"\n",
        "\n",
        "E = \"In another part of the city, a robotics exhibition showcased drones designed to film live sports \\\n",
        "events. These drones could follow players automatically, capturing aerial footage and streaming it \\\n",
        "directly to online platforms.\""
      ]
    },
    {
      "cell_type": "code",
      "source": [
        "print(A)"
      ],
      "metadata": {
        "colab": {
          "base_uri": "https://localhost:8080/"
        },
        "id": "2Dl0RkTmR885",
        "outputId": "cfc1d0fb-ab43-4c68-bee3-e45018b32573"
      },
      "execution_count": 76,
      "outputs": [
        {
          "output_type": "stream",
          "name": "stdout",
          "text": [
            "The city was buzzing with excitement as the local basketball team prepared for the championship. Fans gathered in the arena, waving flags and chanting for their favorite players. The match promised to be a thrilling contest of skill and teamwork.\n"
          ]
        }
      ]
    },
    {
      "cell_type": "markdown",
      "source": [
        "#**Covert to Lower Cases**"
      ],
      "metadata": {
        "id": "275B9szHProE"
      }
    },
    {
      "cell_type": "code",
      "source": [
        "A = A.lower()\n",
        "B = B.lower()\n",
        "C = C.lower()\n",
        "D = D.lower()\n",
        "E = E.lower()"
      ],
      "metadata": {
        "id": "pawWvar9PnwN"
      },
      "execution_count": 77,
      "outputs": []
    },
    {
      "cell_type": "code",
      "source": [
        "print(A)"
      ],
      "metadata": {
        "colab": {
          "base_uri": "https://localhost:8080/"
        },
        "id": "X5BzIfbORPmM",
        "outputId": "53e3f465-0283-4896-94bc-a53b1be70b84"
      },
      "execution_count": 78,
      "outputs": [
        {
          "output_type": "stream",
          "name": "stdout",
          "text": [
            "the city was buzzing with excitement as the local basketball team prepared for the championship. fans gathered in the arena, waving flags and chanting for their favorite players. the match promised to be a thrilling contest of skill and teamwork.\n"
          ]
        }
      ]
    },
    {
      "cell_type": "markdown",
      "source": [
        "##**Divide Word**"
      ],
      "metadata": {
        "id": "5snF00G1P_P5"
      }
    },
    {
      "cell_type": "code",
      "source": [
        "word1 = A.split()\n",
        "word2 = B.split()\n",
        "word3 = C.split()\n",
        "word4 = D.split()\n",
        "word5 = E.split()"
      ],
      "metadata": {
        "id": "jkI2PrevP-4f"
      },
      "execution_count": 79,
      "outputs": []
    },
    {
      "cell_type": "code",
      "source": [
        "print(word1)"
      ],
      "metadata": {
        "colab": {
          "base_uri": "https://localhost:8080/"
        },
        "id": "0TvrwQiaTHaN",
        "outputId": "62b410fb-ef43-460f-ef64-b172a6d4ec99"
      },
      "execution_count": 80,
      "outputs": [
        {
          "output_type": "stream",
          "name": "stdout",
          "text": [
            "['the', 'city', 'was', 'buzzing', 'with', 'excitement', 'as', 'the', 'local', 'basketball', 'team', 'prepared', 'for', 'the', 'championship.', 'fans', 'gathered', 'in', 'the', 'arena,', 'waving', 'flags', 'and', 'chanting', 'for', 'their', 'favorite', 'players.', 'the', 'match', 'promised', 'to', 'be', 'a', 'thrilling', 'contest', 'of', 'skill', 'and', 'teamwork.']\n"
          ]
        }
      ]
    },
    {
      "cell_type": "markdown",
      "source": [
        "#**Vocabulary Build**"
      ],
      "metadata": {
        "id": "cMWCMK90TU6k"
      }
    },
    {
      "cell_type": "code",
      "source": [
        "word_list = []\n",
        "for w in word1:\n",
        "  word_list.append(w)\n",
        "for w in word2:\n",
        "  word_list.append(w)\n",
        "for w in word3:\n",
        "  word_list.append(w)\n",
        "for w in word4:\n",
        "  word_list.append(w)\n",
        "for w in word5:\n",
        "  word_list.append(w)\n",
        "\n",
        "word_list= list(set(word_list))"
      ],
      "metadata": {
        "id": "OWkP-G86TKJ8"
      },
      "execution_count": 81,
      "outputs": []
    },
    {
      "cell_type": "code",
      "source": [
        "print(word_list)"
      ],
      "metadata": {
        "colab": {
          "base_uri": "https://localhost:8080/"
        },
        "id": "cUhlSdczV00h",
        "outputId": "8836e475-bc6c-49f7-dd15-ef8b7924308b"
      },
      "execution_count": 82,
      "outputs": [
        {
          "output_type": "stream",
          "name": "stdout",
          "text": [
            "['designed', 'events.', 'went', 'and', 'viral', 'shouting', 'runners', 'their', 'photos', 'fitness', 'kilometers.', 'these', 'online.', 'contest', 'directly', 'players', 'dog', 'seemed', 'taking', 'filled', 'stray', 'who', 'aerial', 'prepared', 'stood', 'determined', 'running', 'skill', 'arena,', 'drones', 'rate,steps,', 'players.', 'several', 'time,', 'the', 'engineers', 'city', 'footage', 'film', 'streets,', 'a', 'chanting', 'participants', 'flags', 'performance.', 'cross', 'marathon', 'new', 'heart', 'was', 'thrilling', 'championship.', 'finish', 'race,', 'app.', 'monitor', 'basketball', 'promised', 'robotics', 'detailed', 'speed', 'be', 'with', 'ran', 'clapping', 'showcased', 'waving', 'quickly', 'smiled', 'team', 'each', 'another', 'part', 'sports', 'along', 'for', 'live', 'meanwhile,', 'encouragement.', 'app', 'real', 'spectators', 'used', 'capturing', 'place.', 'across', 'highlight', 'became', 'online', 'continued,', 'streaming', 'route,', 'of', 'giving', 'recorded', 'gathered', 'both', 'were', 'testing', 'athletes.', 'line.', 'thousands', 'tracking', 'alongside', 'dog,', 'local', 'it', 'match', 'people', 'buzzing', 'same', 'platforms.', 'fans', 'teamwork.', 'could', 'city,', 'automatically,', 'excitement', 'in', 'follow', 'to', 'many', 'wordsof', 'town,', 'at', 'statistics.', 'exhibition', 'cheered', 'as', 'favorite']\n"
          ]
        }
      ]
    },
    {
      "cell_type": "markdown",
      "source": [
        "##**Remove Stop Words**"
      ],
      "metadata": {
        "id": "YV-MtWu8Uvaq"
      }
    },
    {
      "cell_type": "code",
      "source": [
        "stop_words = []\n",
        "for w in word_list:\n",
        "  total = ((word1.count(w) + word2.count(w) + word3.count(w) + word4.count(w) + word5.count(w))*100)/(len(word1)+len(word2)+len(word3)+len(word4)+len(word5))\n",
        "  if total > 1.61:\n",
        "    stop_words.append(w)\n",
        "    print(w,total)\n",
        "print(stop_words)"
      ],
      "metadata": {
        "colab": {
          "base_uri": "https://localhost:8080/"
        },
        "id": "n5lbzXT0U0f8",
        "outputId": "a1180322-c45b-4f1e-dbf5-7fe8812f609e"
      },
      "execution_count": 83,
      "outputs": [
        {
          "output_type": "stream",
          "name": "stdout",
          "text": [
            "and 4.278074866310161\n",
            "the 9.62566844919786\n",
            "a 2.6737967914438503\n",
            "for 2.1390374331550803\n",
            "of 2.6737967914438503\n",
            "to 2.6737967914438503\n",
            "as 2.1390374331550803\n",
            "['and', 'the', 'a', 'for', 'of', 'to', 'as']\n"
          ]
        }
      ]
    },
    {
      "cell_type": "code",
      "source": [
        "word_list = (w for w in word_list if w not in stop_words)\n",
        "\n"
      ],
      "metadata": {
        "id": "FU88HA3ia4tU"
      },
      "execution_count": 84,
      "outputs": []
    },
    {
      "cell_type": "markdown",
      "source": [
        "#**Frequency Count**"
      ],
      "metadata": {
        "id": "fmeryfA5bRXg"
      }
    },
    {
      "cell_type": "code",
      "source": [
        "word_count1 = []\n",
        "word_count2 = []\n",
        "word_count3 = []\n",
        "word_count4 = []\n",
        "word_count5 = []\n",
        "for w in word_list:\n",
        "    word_count1.append(word1.count(w))\n",
        "    word_count2.append(word2.count(w))\n",
        "    word_count3.append(word3.count(w))\n",
        "    word_count4.append(word4.count(w))\n",
        "    word_count5.append(word5.count(w))"
      ],
      "metadata": {
        "id": "47TehcG1bRD_"
      },
      "execution_count": 85,
      "outputs": []
    },
    {
      "cell_type": "markdown",
      "source": [
        "#**Distance Measure**"
      ],
      "metadata": {
        "id": "ZpJ2nuE1cuaG"
      }
    },
    {
      "cell_type": "code",
      "source": [
        "def distance_measure(list1, list2):\n",
        "    s = 0\n",
        "    for i in range(len(list1)):\n",
        "        s = s + (list1[i] - list2[i])*(list1[i] - list2[i])\n",
        "    return s\n",
        "AB = distance_measure(word_count1, word_count2)\n",
        "AC = distance_measure(word_count1, word_count3)\n",
        "BC = distance_measure(word_count2, word_count3)\n",
        "AD = distance_measure(word_count1, word_count4)\n",
        "AE = distance_measure(word_count1, word_count5)\n",
        "BD = distance_measure(word_count2, word_count4)\n",
        "BE = distance_measure(word_count2, word_count5)\n",
        "CD = distance_measure(word_count3, word_count4)\n",
        "CE = distance_measure(word_count3, word_count5)\n",
        "DE = distance_measure(word_count4, word_count5)"
      ],
      "metadata": {
        "id": "Q7NHKRlQcNe8"
      },
      "execution_count": 86,
      "outputs": []
    },
    {
      "cell_type": "markdown",
      "source": [
        "##**Decision**"
      ],
      "metadata": {
        "id": "swfoSyTLfEs9"
      }
    },
    {
      "cell_type": "code",
      "source": [
        "print(\"Distance Between A & B = \", AB)\n",
        "print(\"Distance Between A & C = \", AC)\n",
        "print(\"Distance Between B & C = \", BC)\n",
        "print(\"Distance Between A & D = \", AD)\n",
        "print(\"Distance Between A & E = \", AE)\n",
        "print(\"Distance Between B & D = \", BD)\n",
        "print(\"Distance Between B & E = \", BE)\n",
        "print(\"Distance Between C & D = \", CD)\n",
        "print(\"Distance Between C & E = \", CE)\n",
        "print(\"Distance Between D & E = \", DE)"
      ],
      "metadata": {
        "colab": {
          "base_uri": "https://localhost:8080/"
        },
        "id": "m_-wzNaudQui",
        "outputId": "583ae3a4-ea8e-474a-e6ba-1880e31ae43a"
      },
      "execution_count": 87,
      "outputs": [
        {
          "output_type": "stream",
          "name": "stdout",
          "text": [
            "Distance Between A & B =  49\n",
            "Distance Between A & C =  57\n",
            "Distance Between B & C =  48\n",
            "Distance Between A & D =  55\n",
            "Distance Between A & E =  54\n",
            "Distance Between B & D =  54\n",
            "Distance Between B & E =  53\n",
            "Distance Between C & D =  58\n",
            "Distance Between C & E =  57\n",
            "Distance Between D & E =  59\n"
          ]
        }
      ]
    }
  ]
}
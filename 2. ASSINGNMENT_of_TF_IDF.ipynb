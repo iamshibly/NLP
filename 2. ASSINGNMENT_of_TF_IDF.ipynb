{
  "nbformat": 4,
  "nbformat_minor": 0,
  "metadata": {
    "colab": {
      "provenance": []
    },
    "kernelspec": {
      "name": "python3",
      "display_name": "Python 3"
    },
    "language_info": {
      "name": "python"
    }
  },
  "cells": [
    {
      "cell_type": "code",
      "execution_count": 40,
      "metadata": {
        "id": "QHxmvjYBEh9_"
      },
      "outputs": [],
      "source": [
        "A = \"The city was buzzing with excitement as the local basketball team prepared for the championship. \\\n",
        "Fans gathered in the arena, waving flags and chanting for their favorite players. The match promised \\\n",
        "to be a thrilling contest of skill and teamwork.\"\n",
        "\n",
        "B = \"Meanwhile, across town, a marathon was taking place. Thousands of runners filled the streets, \\\n",
        "each determined to cross the finish line. Spectators stood along the route, clapping and shouting words\\\n",
        "of encouragement.\"\n",
        "\n",
        "C = \"As the marathon continued, a stray dog ran alongside the runners for several kilometers. People \\\n",
        "smiled and cheered for the dog, who seemed as determined as the athletes. It quickly became the \\\n",
        "highlight of the race, and photos of the running dog went viral online.\"\n",
        "\n",
        "D = \"At the same time, engineers were testing a new fitness tracking app. The app recorded heart rate,\\\n",
        "steps, and speed in real time, giving both runners and fans detailed statistics. Many marathon \\\n",
        "participants used it to monitor their performance.\"\n",
        "\n",
        "E = \"In another part of the city, a robotics exhibition showcased drones designed to film live sports \\\n",
        "events. These drones could follow players automatically, capturing aerial footage and streaming it \\\n",
        "directly to online platforms.\""
      ]
    },
    {
      "cell_type": "code",
      "source": [
        "A = A.lower()\n",
        "B = B.lower()\n",
        "C = C.lower()\n",
        "D = D.lower()\n",
        "E = E.lower()\n",
        "\n",
        "word1 = A.split()\n",
        "word2 = B.split()\n",
        "word3 = C.split()\n",
        "word4 = D.split()\n",
        "word5 = E.split()\n",
        "word_list = []\n",
        "for i in word1:\n",
        "    word_list.append(i)\n",
        "for i in word2:\n",
        "    word_list.append(i)\n",
        "for i in word3:\n",
        "    word_list.append(i)\n",
        "for i in word4:\n",
        "    word_list.append(i)\n",
        "for i in word5:\n",
        "    word_list.append(i)\n",
        "\n",
        "word_list = list(set(word_list))\n",
        "print(word_list)"
      ],
      "metadata": {
        "colab": {
          "base_uri": "https://localhost:8080/"
        },
        "id": "bWQUqeMjFi2H",
        "outputId": "673d8e39-139f-4173-f021-f42311d5ee2b"
      },
      "execution_count": 41,
      "outputs": [
        {
          "output_type": "stream",
          "name": "stdout",
          "text": [
            "['these', 'part', 'thrilling', 'performance.', 'live', 'arena,', 'statistics.', 'meanwhile,', 'follow', 'clapping', 'engineers', 'became', 'players.', 'athletes.', 'streaming', 'giving', 'streets,', 'was', 'dog,', 'contest', 'determined', 'several', 'continued,', 'platforms.', 'heart', 'town,', 'each', 'tracking', 'filled', 'app.', 'alongside', 'time,', 'team', 'rate,steps,', 'events.', 'directly', 'drones', 'cross', 'showcased', 'capturing', 'a', 'fitness', 'spectators', 'photos', 'recorded', 'highlight', 'taking', 'in', 'both', 'prepared', 'were', 'the', 'at', 'monitor', 'speed', 'aerial', 'chanting', 'sports', 'many', 'runners', 'across', 'fans', 'with', 'it', 'another', 'finish', 'running', 'city,', 'footage', 'along', 'online', 'line.', 'local', 'match', 'basketball', 'gathered', 'quickly', 'be', 'cheered', 'stray', 'excitement', 'encouragement.', 'app', 'same', 'smiled', 'exhibition', 'their', 'of', 'skill', 'dog', 'flags', 'ran', 'kilometers.', 'race,', 'went', 'real', 'detailed', 'participants', 'robotics', 'film', 'waving', 'could', 'place.', 'viral', 'to', 'used', 'marathon', 'for', 'stood', 'seemed', 'championship.', 'designed', 'promised', 'testing', 'automatically,', 'new', 'wordsof', 'route,', 'teamwork.', 'online.', 'as', 'city', 'and', 'buzzing', 'players', 'favorite', 'people', 'who', 'shouting', 'thousands']\n"
          ]
        }
      ]
    },
    {
      "cell_type": "code",
      "source": [
        "stop_words = []\n",
        "for i in word_list:\n",
        "    w = ((word1.count(i)+word2.count(i)+word3.count(i)+word4.count(i)+word5.count(i))*100) / (len(word1)+len(word2)+len(word3)+len(word4)+len(word5))\n",
        "    if(w>1.7):\n",
        "        stop_words.append(i)\n",
        "        print(i, w)\n",
        "\n",
        "print(stop_words)\n",
        "def distance_measure(list1, list2):\n",
        "    s = 0\n",
        "    for i in range(len(list1)):\n",
        "        s = s + (list1[i] - list2[i])*(list1[i] - list2[i])\n",
        "    return s"
      ],
      "metadata": {
        "colab": {
          "base_uri": "https://localhost:8080/"
        },
        "id": "o4KNqMi5Fnwj",
        "outputId": "3f046fb1-4cac-42c3-e1d9-e1c2c912a491"
      },
      "execution_count": 42,
      "outputs": [
        {
          "output_type": "stream",
          "name": "stdout",
          "text": [
            "a 2.6737967914438503\n",
            "the 9.62566844919786\n",
            "of 2.6737967914438503\n",
            "to 2.6737967914438503\n",
            "for 2.1390374331550803\n",
            "as 2.1390374331550803\n",
            "and 4.278074866310161\n",
            "['a', 'the', 'of', 'to', 'for', 'as', 'and']\n"
          ]
        }
      ]
    },
    {
      "cell_type": "code",
      "source": [
        "word_list = [w for w in word_list if w not in stop_words]\n",
        "word_list"
      ],
      "metadata": {
        "colab": {
          "base_uri": "https://localhost:8080/"
        },
        "id": "m6V_8fxiI4yE",
        "outputId": "06539eee-41a5-41a6-8cbc-abf1b59ecac2"
      },
      "execution_count": 43,
      "outputs": [
        {
          "output_type": "execute_result",
          "data": {
            "text/plain": [
              "['these',\n",
              " 'part',\n",
              " 'thrilling',\n",
              " 'performance.',\n",
              " 'live',\n",
              " 'arena,',\n",
              " 'statistics.',\n",
              " 'meanwhile,',\n",
              " 'follow',\n",
              " 'clapping',\n",
              " 'engineers',\n",
              " 'became',\n",
              " 'players.',\n",
              " 'athletes.',\n",
              " 'streaming',\n",
              " 'giving',\n",
              " 'streets,',\n",
              " 'was',\n",
              " 'dog,',\n",
              " 'contest',\n",
              " 'determined',\n",
              " 'several',\n",
              " 'continued,',\n",
              " 'platforms.',\n",
              " 'heart',\n",
              " 'town,',\n",
              " 'each',\n",
              " 'tracking',\n",
              " 'filled',\n",
              " 'app.',\n",
              " 'alongside',\n",
              " 'time,',\n",
              " 'team',\n",
              " 'rate,steps,',\n",
              " 'events.',\n",
              " 'directly',\n",
              " 'drones',\n",
              " 'cross',\n",
              " 'showcased',\n",
              " 'capturing',\n",
              " 'fitness',\n",
              " 'spectators',\n",
              " 'photos',\n",
              " 'recorded',\n",
              " 'highlight',\n",
              " 'taking',\n",
              " 'in',\n",
              " 'both',\n",
              " 'prepared',\n",
              " 'were',\n",
              " 'at',\n",
              " 'monitor',\n",
              " 'speed',\n",
              " 'aerial',\n",
              " 'chanting',\n",
              " 'sports',\n",
              " 'many',\n",
              " 'runners',\n",
              " 'across',\n",
              " 'fans',\n",
              " 'with',\n",
              " 'it',\n",
              " 'another',\n",
              " 'finish',\n",
              " 'running',\n",
              " 'city,',\n",
              " 'footage',\n",
              " 'along',\n",
              " 'online',\n",
              " 'line.',\n",
              " 'local',\n",
              " 'match',\n",
              " 'basketball',\n",
              " 'gathered',\n",
              " 'quickly',\n",
              " 'be',\n",
              " 'cheered',\n",
              " 'stray',\n",
              " 'excitement',\n",
              " 'encouragement.',\n",
              " 'app',\n",
              " 'same',\n",
              " 'smiled',\n",
              " 'exhibition',\n",
              " 'their',\n",
              " 'skill',\n",
              " 'dog',\n",
              " 'flags',\n",
              " 'ran',\n",
              " 'kilometers.',\n",
              " 'race,',\n",
              " 'went',\n",
              " 'real',\n",
              " 'detailed',\n",
              " 'participants',\n",
              " 'robotics',\n",
              " 'film',\n",
              " 'waving',\n",
              " 'could',\n",
              " 'place.',\n",
              " 'viral',\n",
              " 'used',\n",
              " 'marathon',\n",
              " 'stood',\n",
              " 'seemed',\n",
              " 'championship.',\n",
              " 'designed',\n",
              " 'promised',\n",
              " 'testing',\n",
              " 'automatically,',\n",
              " 'new',\n",
              " 'wordsof',\n",
              " 'route,',\n",
              " 'teamwork.',\n",
              " 'online.',\n",
              " 'city',\n",
              " 'buzzing',\n",
              " 'players',\n",
              " 'favorite',\n",
              " 'people',\n",
              " 'who',\n",
              " 'shouting',\n",
              " 'thousands']"
            ]
          },
          "metadata": {},
          "execution_count": 43
        }
      ]
    },
    {
      "cell_type": "code",
      "source": [
        "def distance_measure(list1, list2):\n",
        "    s = 0\n",
        "    for i in range(len(list1)):\n",
        "        s = s + (list1[i] - list2[i])*(list1[i] - list2[i])\n",
        "    return s"
      ],
      "metadata": {
        "id": "kfMxMnHLIyr0"
      },
      "execution_count": 44,
      "outputs": []
    },
    {
      "cell_type": "code",
      "source": [
        "count1 = []\n",
        "count2 = []\n",
        "count3 = []\n",
        "count4 = []\n",
        "count5 = []\n",
        "for w in word_list:\n",
        "    count1.append(word1.count(w))\n",
        "    count2.append(word2.count(w))\n",
        "    count3.append(word3.count(w))\n",
        "    count4.append(word4.count(w))\n",
        "    count5.append(word5.count(w))\n",
        "\n",
        "AB_count = distance_measure(count1, count2)\n",
        "AC_count = distance_measure(count1, count3)\n",
        "AE_count = distance_measure(count1, count5)\n",
        "DE_count = distance_measure(count4, count5)\n",
        "BC_count = distance_measure(count2, count3)\n",
        "BD_count = distance_measure(count2, count4)\n",
        "BE_count = distance_measure(count2, count5)\n",
        "AD_count = distance_measure(count1, count4)\n",
        "CD_count = distance_measure(count3, count4)\n",
        "CE_count = distance_measure(count3, count5)\n",
        "\n",
        "\n",
        "print(\"Count Distance Between A & B = \", AB_count)\n",
        "print(\"Count Distance Between A & C = \", AC_count)\n",
        "print(\"Count Distance Between A & E = \", AE_count)\n",
        "print(\"Count Distance Between D & E = \", DE_count)\n",
        "print(\"Count Distance Between B & C = \", BC_count)\n",
        "print(\"Count Distance Between B & D = \", BD_count)\n",
        "print(\"Count Distance Between B & E = \", BE_count)\n",
        "print(\"Count Distance Between A & D = \", AD_count)\n",
        "print(\"Count Distance Between C & D = \", CD_count)\n",
        "print(\"Count Distance Between C & E = \", CE_count)\n"
      ],
      "metadata": {
        "colab": {
          "base_uri": "https://localhost:8080/"
        },
        "id": "D-xY9t85F2fm",
        "outputId": "c36b4a8d-f488-458d-9016-062bf9c8bfa0"
      },
      "execution_count": 45,
      "outputs": [
        {
          "output_type": "stream",
          "name": "stdout",
          "text": [
            "Count Distance Between A & B =  49\n",
            "Count Distance Between A & C =  57\n",
            "Count Distance Between A & E =  54\n",
            "Count Distance Between D & E =  59\n",
            "Count Distance Between B & C =  48\n",
            "Count Distance Between B & D =  54\n",
            "Count Distance Between B & E =  53\n",
            "Count Distance Between A & D =  55\n",
            "Count Distance Between C & D =  58\n",
            "Count Distance Between C & E =  57\n"
          ]
        }
      ]
    },
    {
      "cell_type": "code",
      "source": [
        "tf1 = []\n",
        "tf2 = []\n",
        "tf3 = []\n",
        "tf4 = []\n",
        "tf5 = []\n",
        "for w in word_list:\n",
        "    tf1.append(word1.count(w)/len(word1))\n",
        "    tf2.append(word2.count(w)/len(word2))\n",
        "    tf3.append(word3.count(w)/len(word3))\n",
        "    tf4.append(word4.count(w)/len(word4))\n",
        "    tf5.append(word5.count(w)/len(word5))\n",
        "\n",
        "AB_tf = distance_measure(tf1, tf2)\n",
        "AC_tf = distance_measure(tf1, tf3)\n",
        "AD_tf = distance_measure(tf1, tf4)\n",
        "AE_tf = distance_measure(tf1, tf5)\n",
        "BC_tf = distance_measure(tf2, tf3)\n",
        "BD_tf = distance_measure(tf2, tf4)\n",
        "BE_tf = distance_measure(tf2, tf5)\n",
        "CD_tf = distance_measure(tf3, tf4)\n",
        "CE_tf = distance_measure(tf3, tf5)\n",
        "DE_tf = distance_measure(tf4, tf5)\n",
        "\n",
        "print(\"TF Distance Between A & B = \", AB_tf)\n",
        "print(\"TF Distance Between A & C = \", AC_tf)\n",
        "print(\"TF Distance Between A & D = \", AD_tf)\n",
        "print(\"TF Distance Between A & E = \", AE_tf)\n",
        "print(\"TF Distance Between B & C = \", BC_tf)\n",
        "print(\"TF Distance Between B & D = \", BD_tf)\n",
        "print(\"TF Distance Between B & E = \", BE_tf)\n",
        "print(\"TF Distance Between C & D = \", CD_tf)\n",
        "print(\"TF Distance Between C & E = \", CE_tf)\n",
        "print(\"TF Distance Between D & E = \", DE_tf)"
      ],
      "metadata": {
        "colab": {
          "base_uri": "https://localhost:8080/"
        },
        "id": "Q3ZxCOMcGsA7",
        "outputId": "c83e1986-8105-480f-f89a-9195b0a18593"
      },
      "execution_count": 46,
      "outputs": [
        {
          "output_type": "stream",
          "name": "stdout",
          "text": [
            "TF Distance Between A & B =  0.04023608220603538\n",
            "TF Distance Between A & C =  0.031689814814814844\n",
            "TF Distance Between A & D =  0.03647333795013852\n",
            "TF Distance Between A & E =  0.041989784205693305\n",
            "TF Distance Between B & C =  0.03548772497783946\n",
            "TF Distance Between B & D =  0.04512410606449306\n",
            "TF Distance Between B & E =  0.0516039211526866\n",
            "TF Distance Between C & D =  0.03485174925618142\n",
            "TF Distance Between C & E =  0.0400979491888583\n",
            "TF Distance Between D & E =  0.046985849428559066\n"
          ]
        }
      ]
    },
    {
      "cell_type": "code",
      "source": [
        "import math\n",
        "idf = []\n",
        "idfword = 0\n",
        "\n",
        "for w in word_list:\n",
        "    for x in word1:\n",
        "        if (x==w):\n",
        "            idfword = idfword+1\n",
        "            break;\n",
        "    for x in word2:\n",
        "        if (x==w):\n",
        "            idfword = idfword+1\n",
        "            break;\n",
        "    for x in word3:\n",
        "        if (x==w):\n",
        "            idfword = idfword+1\n",
        "            break;\n",
        "    for x in word4:\n",
        "        if (x==w):\n",
        "            idfword = idfword+1\n",
        "            break;\n",
        "    for x in word5:\n",
        "        if (x==w):\n",
        "            idfword = idfword+1\n",
        "            break;\n",
        "\n",
        "    idf.append(math.log10(5/idfword))\n",
        "    idfword=0\n",
        "\n",
        "tf_idf1 = []\n",
        "tf_idf2 = []\n",
        "tf_idf3 = []\n",
        "tf_idf4 = []\n",
        "tf_idf5 = []\n",
        "\n",
        "for i in range(len(word_list)):\n",
        "    tf_idf1.append(tf1[i]*idf[i])\n",
        "    tf_idf2.append(tf2[i]*idf[i])\n",
        "    tf_idf3.append(tf3[i]*idf[i])\n",
        "    tf_idf4.append(tf4[i]*idf[i])\n",
        "    tf_idf5.append(tf5[i]*idf[i])\n",
        "\n",
        "\n",
        "AB_tf_idf = distance_measure(tf_idf1, tf_idf2)\n",
        "AC_tf_idf = distance_measure(tf_idf1, tf_idf3)\n",
        "AD_tf_idf = distance_measure(tf_idf1, tf_idf4)\n",
        "AE_tf_idf = distance_measure(tf_idf1, tf_idf5)\n",
        "BC_tf_idf = distance_measure(tf_idf2, tf_idf3)\n",
        "BD_tf_idf = distance_measure(tf_idf2, tf_idf4)\n",
        "BE_tf_idf = distance_measure(tf_idf2, tf_idf5)\n",
        "CD_tf_idf = distance_measure(tf_idf3, tf_idf4)\n",
        "CE_tf_idf = distance_measure(tf_idf3, tf_idf5)\n",
        "DE_tf_idf = distance_measure(tf_idf4, tf_idf5)\n",
        "\n",
        "print(\"TF_IDF Distance Between A & B = \", AB_tf_idf)\n",
        "print(\"TF_IDF Distance Between A & C = \", AC_tf_idf)\n",
        "print(\"TF_IDF Distance Between A & D = \", AD_tf_idf)\n",
        "print(\"TF_IDF Distance Between A & E = \", AE_tf_idf)\n",
        "print(\"TF_IDF Distance Between B & C = \", BC_tf_idf)\n",
        "print(\"TF_IDF Distance Between B & D = \", BD_tf_idf)\n",
        "print(\"TF_IDF Distance Between B & E = \", BE_tf_idf)\n",
        "print(\"TF_IDF Distance Between C & D = \", CD_tf_idf)\n",
        "print(\"TF_IDF Distance Between C & E = \", CE_tf_idf)\n",
        "print(\"TF_IDF Distance Between D & E = \", DE_tf_idf)"
      ],
      "metadata": {
        "colab": {
          "base_uri": "https://localhost:8080/"
        },
        "id": "XM-Xn0rKGzWi",
        "outputId": "c5f8e0bd-551c-4777-f8b7-7e7317ce548f"
      },
      "execution_count": 47,
      "outputs": [
        {
          "output_type": "stream",
          "name": "stdout",
          "text": [
            "TF_IDF Distance Between A & B =  0.017695018312241267\n",
            "TF_IDF Distance Between A & C =  0.01377468675124309\n",
            "TF_IDF Distance Between A & D =  0.016698338400272728\n",
            "TF_IDF Distance Between A & E =  0.019479567911018465\n",
            "TF_IDF Distance Between B & C =  0.016655530485688422\n",
            "TF_IDF Distance Between B & D =  0.02026170573799857\n",
            "TF_IDF Distance Between B & E =  0.022803140343039107\n",
            "TF_IDF Distance Between C & D =  0.016080390199936612\n",
            "TF_IDF Distance Between C & E =  0.01856111013106756\n",
            "TF_IDF Distance Between D & E =  0.021875541531741167\n"
          ]
        }
      ]
    },
    {
      "cell_type": "code",
      "source": [
        "import matplotlib.pyplot as plt\n",
        "\n",
        "# Distances provided\n",
        "distances = {\n",
        "    'Count': {\n",
        "        'A-B': 49, 'A-C': 57, 'A-D': 55, 'A-E': 54,\n",
        "        'B-C': 48, 'B-D': 54, 'B-E': 53, 'C-D': 58, 'C-E': 57, 'D-E': 59\n",
        "    },\n",
        "    'TF': {\n",
        "        'A-B': 0.04023608220603538, 'A-C': 0.031689814814814844, 'A-D': 0.03647333795013852,\n",
        "        'A-E': 0.041989784205693305, 'B-C': 0.03548772497783946, 'B-D': 0.04512410606449306,\n",
        "        'B-E': 0.0516039211526866, 'C-D': 0.03485174925618142, 'C-E': 0.0400979491888583,\n",
        "        'D-E': 0.046985849428559066\n",
        "    },\n",
        "    'TF-IDF': {\n",
        "        'A-B': 0.017695018312241267, 'A-C': 0.01377468675124309, 'A-D': 0.016698338400272728,\n",
        "        'A-E': 0.019479567911018465, 'B-C': 0.016655530485688422, 'B-D': 0.02026170573799857,\n",
        "        'B-E': 0.022803140343039107, 'C-D': 0.016080390199936612, 'C-E': 0.01856111013106756,\n",
        "        'D-E': 0.021875541531741167\n",
        "    }\n",
        "}\n",
        "\n",
        "def plot_sorted(metric_name):\n",
        "    items = sorted(distances[metric_name].items(), key=lambda x: x[1], reverse=True)\n",
        "    labels, values = zip(*items)\n",
        "    plt.figure()\n",
        "    plt.bar(labels, values)\n",
        "    plt.title(f'{metric_name} Distances (sorted)')\n",
        "    plt.xlabel('Document Pairs')\n",
        "    plt.ylabel('Distance')\n",
        "    plt.xticks(rotation=45)\n",
        "    plt.tight_layout()\n",
        "    plt.show()\n",
        "\n",
        "# Plot each metric\n",
        "plot_sorted('Count')\n",
        "plot_sorted('TF')\n",
        "plot_sorted('TF-IDF')\n"
      ],
      "metadata": {
        "id": "Ur5nhf_nXz_O",
        "outputId": "7e53c0a7-cb4b-4405-d2b8-e6959a36ac1f",
        "colab": {
          "base_uri": "https://localhost:8080/",
          "height": 1000
        }
      },
      "execution_count": 48,
      "outputs": [
        {
          "output_type": "display_data",
          "data": {
            "text/plain": [
              "<Figure size 640x480 with 1 Axes>"
            ],
            "image/png": "[encoded data removed]"
          },
          "metadata": {}
        },
        {
          "output_type": "display_data",
          "data": {
            "text/plain": [
              "<Figure size 640x480 with 1 Axes>"
            ],
            "image/png": "[encoded data removed]"
          },
          "metadata": {}
        },
        {
          "output_type": "display_data",
          "data": {
            "text/plain": [
              "<Figure size 640x480 with 1 Axes>"
            ],
            "image/png": "[encoded data removed]"
          },
          "metadata": {}
        }
      ]
    }
  ]
}